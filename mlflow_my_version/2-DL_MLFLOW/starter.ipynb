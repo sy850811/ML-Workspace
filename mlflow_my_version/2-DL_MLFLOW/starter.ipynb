{
 "cells": [
  {
   "cell_type": "markdown",
   "metadata": {},
   "source": [
    "## In this quickstart, we will:\n",
    "- Run a hyperparameter sweep on a training script\n",
    "- Compare the results of the runs in the MLflow Ul\n",
    "- Choose the best run and register it as a model\n",
    "- Deploy the model to a REST API\n",
    "- Build a container image suitable for deployment to a cloud platform"
   ]
  },
  {
   "cell_type": "markdown",
   "metadata": {},
   "source": [
    "![Sample Image](./agenda.png)"
   ]
  },
  {
   "cell_type": "code",
   "execution_count": 1,
   "metadata": {},
   "outputs": [],
   "source": [
    "import pandas as pd\n",
    "import numpy as np\n",
    "import mlflow\n",
    "from mlflow.models import infer_signature # i repeatedly forget .models in this line\n",
    "from urllib.parse import urlparse\n",
    "import keras\n",
    "import tensorflow as tf\n",
    "from hyperopt import STATUS_OK, Trials, fmin,hp,tpe\n",
    "from sklearn.metrics import mean_squared_error\n",
    "from sklearn.model_selection import train_test_split\n"
   ]
  },
  {
   "cell_type": "markdown",
   "metadata": {},
   "source": [
    "### Preprocessing"
   ]
  },
  {
   "cell_type": "code",
   "execution_count": 2,
   "metadata": {},
   "outputs": [],
   "source": [
    "data = pd.read_csv(\"https://raw.githubusercontent.com/mlflow/mlflow/master/tests/datasets/winequality-white.csv\",sep=\";\")\n",
    "X,y = data.drop(columns=[\"quality\"]).values,data[\"quality\"].values.ravel()\n",
    "X_train,X_test,y_train,y_test = train_test_split(X,y,test_size=0.25,random_state=42)\n",
    "train_x,valid_x,train_y,valid_y = train_test_split(X_train,y_train,test_size=0.2,random_state=42)\n",
    "signature = infer_signature(train_x,train_y)"
   ]
  },
  {
   "cell_type": "markdown",
   "metadata": {},
   "source": [
    "#ANN Model"
   ]
  },
  {
   "cell_type": "code",
   "execution_count": 3,
   "metadata": {},
   "outputs": [],
   "source": [
    "def train_model(train_x,train_y,valid_x,valid_y,X_test,y_test,params,epochs):\n",
    "    #model architecture\n",
    "    mean = np.mean(train_x,axis=0)\n",
    "    var = np.var(train_x,axis=0)\n",
    "\n",
    "    model = keras.Sequential([\n",
    "        keras.Input([train_x.shape[1]]),\n",
    "        keras.layers.Normalization(mean=mean,variance=var),\n",
    "        keras.layers.Dense(64,activation=\"relu\"),\n",
    "        keras.layers.Dense(1)]\n",
    "    )\n",
    "\n",
    "    model.compile(\n",
    "        optimizer=keras.optimizers.SGD(\n",
    "                    learning_rate=params[\"lr\"],\n",
    "                    momentum= params[\"momentum\"] ),\n",
    "        loss= \"mean_squared_error\",\n",
    "        metrics=[keras.metrics.RootMeanSquaredError()]\n",
    "                )\n",
    "    with mlflow.start_run(nested=True):\n",
    "        model.fit(train_x,train_y,\n",
    "                  validation_data=(valid_x,valid_y),\n",
    "                  epochs=epochs,\n",
    "                  batch_size=64)\n",
    "        eval_result = model.evaluate(valid_x,valid_y,batch_size=64)\n",
    "        eval_rmse = eval_result[1]\n",
    "        mlflow.log_params(params)\n",
    "        mlflow.log_metric(\"eval_rmse\",eval_rmse)\n",
    "        mlflow.tensorflow.log_model(\n",
    "                                    model,\n",
    "                                    \"model\",\n",
    "                                    signature=signature)\n",
    "        return {\"loss\": eval_rmse, \"status\": STATUS_OK, \"model\": model}"
   ]
  },
  {
   "cell_type": "code",
   "execution_count": 4,
   "metadata": {},
   "outputs": [],
   "source": [
    "def objective(params):\n",
    "# MLflow will track the parameters and results for each run\n",
    "    result = train_model(train_x=train_x,train_y=train_y,valid_x=valid_x,valid_y=valid_y,X_test=X_test,y_test=y_test,params=params,epochs =3)\n",
    "    return result"
   ]
  },
  {
   "cell_type": "code",
   "execution_count": 5,
   "metadata": {},
   "outputs": [],
   "source": [
    "space = {\n",
    "    \"lr\": hp.loguniform(\"lr\",np.log(1e-5),np.log(1e-1)),\n",
    "    \"momentum\": hp.uniform(\"momentum\",0.0,1.0)\n",
    "}"
   ]
  },
  {
   "cell_type": "code",
   "execution_count": 6,
   "metadata": {},
   "outputs": [
    {
     "name": "stdout",
     "output_type": "stream",
     "text": [
      "Epoch 1/3                                            \n",
      "\n",
      "\u001b[1m 1/46\u001b[0m \u001b[37m━━━━━━━━━━━━━━━━━━━━\u001b[0m \u001b[1m16s\u001b[0m 356ms/step - loss: 33.2692 - root_mean_squared_error: 5.7679\n",
      "\u001b[1m46/46\u001b[0m \u001b[32m━━━━━━━━━━━━━━━━━━━━\u001b[0m\u001b[37m\u001b[0m \u001b[1m1s\u001b[0m 4ms/step - loss: 22.8137 - root_mean_squared_error: 4.7475 - val_loss: 5.6831 - val_root_mean_squared_error: 2.3839\n",
      "\n",
      "Epoch 2/3                                            \n",
      "\n",
      "\u001b[1m 1/46\u001b[0m \u001b[37m━━━━━━━━━━━━━━━━━━━━\u001b[0m \u001b[1m0s\u001b[0m 19ms/step - loss: 6.1731 - root_mean_squared_error: 2.4846\n",
      "\u001b[1m46/46\u001b[0m \u001b[32m━━━━━━━━━━━━━━━━━━━━\u001b[0m\u001b[37m\u001b[0m \u001b[1m0s\u001b[0m 2ms/step - loss: 4.1413 - root_mean_squared_error: 2.0277 - val_loss: 2.2998 - val_root_mean_squared_error: 1.5165\n",
      "\n",
      "Epoch 3/3                                            \n",
      "\n",
      "\u001b[1m 1/46\u001b[0m \u001b[37m━━━━━━━━━━━━━━━━━━━━\u001b[0m \u001b[1m0s\u001b[0m 20ms/step - loss: 1.9682 - root_mean_squared_error: 1.4029\n",
      "\u001b[1m46/46\u001b[0m \u001b[32m━━━━━━━━━━━━━━━━━━━━\u001b[0m\u001b[37m\u001b[0m \u001b[1m0s\u001b[0m 2ms/step - loss: 2.2017 - root_mean_squared_error: 1.4823 - val_loss: 1.9784 - val_root_mean_squared_error: 1.4066\n",
      "\n",
      "\u001b[1m 1/12\u001b[0m \u001b[32m━\u001b[0m\u001b[37m━━━━━━━━━━━━━━━━━━━\u001b[0m \u001b[1m1s\u001b[0m 139ms/step - loss: 1.8002 - root_mean_squared_error: 1.3417\n",
      "\u001b[1m11/12\u001b[0m \u001b[32m━━━━━━━━━━━━━━━━━━\u001b[0m\u001b[37m━━\u001b[0m \u001b[1m0s\u001b[0m 5ms/step - loss: 2.0308 - root_mean_squared_error: 1.4244  \n",
      "\u001b[1m12/12\u001b[0m \u001b[32m━━━━━━━━━━━━━━━━━━━━\u001b[0m\u001b[37m\u001b[0m \u001b[1m0s\u001b[0m 10ms/step - loss: 2.0228 - root_mean_squared_error: 1.4216\n",
      "\n",
      "Epoch 1/3                                                                      \n",
      "\n",
      "\u001b[1m 1/46\u001b[0m \u001b[37m━━━━━━━━━━━━━━━━━━━━\u001b[0m \u001b[1m13s\u001b[0m 296ms/step - loss: 40.8661 - root_mean_squared_error: 6.3927\n",
      "\u001b[1m46/46\u001b[0m \u001b[32m━━━━━━━━━━━━━━━━━━━━\u001b[0m\u001b[37m\u001b[0m \u001b[1m1s\u001b[0m 7ms/step - loss: 6.9800 - root_mean_squared_error: 2.4474 - val_loss: 0.7012 - val_root_mean_squared_error: 0.8374\n",
      "\n",
      "Epoch 2/3                                                                      \n",
      "\n",
      "\u001b[1m 1/46\u001b[0m \u001b[37m━━━━━━━━━━━━━━━━━━━━\u001b[0m \u001b[1m0s\u001b[0m 19ms/step - loss: 0.8308 - root_mean_squared_error: 0.9115\n",
      "\u001b[1m46/46\u001b[0m \u001b[32m━━━━━━━━━━━━━━━━━━━━\u001b[0m\u001b[37m\u001b[0m \u001b[1m0s\u001b[0m 2ms/step - loss: 0.7198 - root_mean_squared_error: 0.8474 - val_loss: 0.5829 - val_root_mean_squared_error: 0.7635\n",
      "\n",
      "Epoch 3/3                                                                      \n",
      "\n",
      "\u001b[1m 1/46\u001b[0m \u001b[37m━━━━━━━━━━━━━━━━━━━━\u001b[0m \u001b[1m0s\u001b[0m 18ms/step - loss: 0.5653 - root_mean_squared_error: 0.7518\n",
      "\u001b[1m46/46\u001b[0m \u001b[32m━━━━━━━━━━━━━━━━━━━━\u001b[0m\u001b[37m\u001b[0m \u001b[1m0s\u001b[0m 2ms/step - loss: 0.5780 - root_mean_squared_error: 0.7602 - val_loss: 0.5283 - val_root_mean_squared_error: 0.7269\n",
      "\n",
      "\u001b[1m 1/12\u001b[0m \u001b[32m━\u001b[0m\u001b[37m━━━━━━━━━━━━━━━━━━━\u001b[0m \u001b[1m0s\u001b[0m 16ms/step - loss: 0.5083 - root_mean_squared_error: 0.7129\n",
      "\u001b[1m12/12\u001b[0m \u001b[32m━━━━━━━━━━━━━━━━━━━━\u001b[0m\u001b[37m\u001b[0m \u001b[1m0s\u001b[0m 2ms/step - loss: 0.5185 - root_mean_squared_error: 0.7199 \n",
      "\n",
      "Epoch 1/3                                                                      \n",
      "\n",
      "\u001b[1m 1/46\u001b[0m \u001b[37m━━━━━━━━━━━━━━━━━━━━\u001b[0m \u001b[1m12s\u001b[0m 270ms/step - loss: 38.6526 - root_mean_squared_error: 6.2171\n",
      "\u001b[1m46/46\u001b[0m \u001b[32m━━━━━━━━━━━━━━━━━━━━\u001b[0m\u001b[37m\u001b[0m \u001b[1m0s\u001b[0m 4ms/step - loss: 35.6031 - root_mean_squared_error: 5.9663 - val_loss: 32.4202 - val_root_mean_squared_error: 5.6939\n",
      "\n",
      "Epoch 2/3                                                                      \n",
      "\n",
      "\u001b[1m 1/46\u001b[0m \u001b[37m━━━━━━━━━━━━━━━━━━━━\u001b[0m \u001b[1m0s\u001b[0m 18ms/step - loss: 33.6486 - root_mean_squared_error: 5.8007\n",
      "\u001b[1m46/46\u001b[0m \u001b[32m━━━━━━━━━━━━━━━━━━━━\u001b[0m\u001b[37m\u001b[0m \u001b[1m0s\u001b[0m 2ms/step - loss: 31.0378 - root_mean_squared_error: 5.5707 - val_loss: 28.4596 - val_root_mean_squared_error: 5.3348\n",
      "\n",
      "Epoch 3/3                                                                      \n",
      "\n",
      "\u001b[1m 1/46\u001b[0m \u001b[37m━━━━━━━━━━━━━━━━━━━━\u001b[0m \u001b[1m0s\u001b[0m 18ms/step - loss: 26.6442 - root_mean_squared_error: 5.1618\n",
      "\u001b[1m46/46\u001b[0m \u001b[32m━━━━━━━━━━━━━━━━━━━━\u001b[0m\u001b[37m\u001b[0m \u001b[1m0s\u001b[0m 2ms/step - loss: 27.2330 - root_mean_squared_error: 5.2182 - val_loss: 24.9865 - val_root_mean_squared_error: 4.9987\n",
      "\n",
      "\u001b[1m 1/12\u001b[0m \u001b[32m━\u001b[0m\u001b[37m━━━━━━━━━━━━━━━━━━━\u001b[0m \u001b[1m0s\u001b[0m 15ms/step - loss: 25.8689 - root_mean_squared_error: 5.0861\n",
      "\u001b[1m12/12\u001b[0m \u001b[32m━━━━━━━━━━━━━━━━━━━━\u001b[0m\u001b[37m\u001b[0m \u001b[1m0s\u001b[0m 2ms/step - loss: 24.9004 - root_mean_squared_error: 4.9899 \n",
      "\n",
      "Epoch 1/3                                                                      \n",
      "\n",
      "\u001b[1m 1/46\u001b[0m \u001b[37m━━━━━━━━━━━━━━━━━━━━\u001b[0m \u001b[1m12s\u001b[0m 275ms/step - loss: 35.4008 - root_mean_squared_error: 5.9499\n",
      "\u001b[1m46/46\u001b[0m \u001b[32m━━━━━━━━━━━━━━━━━━━━\u001b[0m\u001b[37m\u001b[0m \u001b[1m0s\u001b[0m 4ms/step - loss: 19.5396 - root_mean_squared_error: 4.3195 - val_loss: 1.8782 - val_root_mean_squared_error: 1.3705\n",
      "\n",
      "Epoch 2/3                                                                      \n",
      "\n",
      "\u001b[1m 1/46\u001b[0m \u001b[37m━━━━━━━━━━━━━━━━━━━━\u001b[0m \u001b[1m0s\u001b[0m 18ms/step - loss: 1.7125 - root_mean_squared_error: 1.3086\n",
      "\u001b[1m46/46\u001b[0m \u001b[32m━━━━━━━━━━━━━━━━━━━━\u001b[0m\u001b[37m\u001b[0m \u001b[1m0s\u001b[0m 2ms/step - loss: 1.6258 - root_mean_squared_error: 1.2746 - val_loss: 1.4292 - val_root_mean_squared_error: 1.1955\n",
      "\n",
      "Epoch 3/3                                                                      \n",
      "\n",
      "\u001b[1m 1/46\u001b[0m \u001b[37m━━━━━━━━━━━━━━━━━━━━\u001b[0m \u001b[1m0s\u001b[0m 19ms/step - loss: 1.1527 - root_mean_squared_error: 1.0736\n",
      "\u001b[1m46/46\u001b[0m \u001b[32m━━━━━━━━━━━━━━━━━━━━\u001b[0m\u001b[37m\u001b[0m \u001b[1m0s\u001b[0m 2ms/step - loss: 1.2114 - root_mean_squared_error: 1.1005 - val_loss: 1.2285 - val_root_mean_squared_error: 1.1084\n",
      "\n",
      "\u001b[1m 1/12\u001b[0m \u001b[32m━\u001b[0m\u001b[37m━━━━━━━━━━━━━━━━━━━\u001b[0m \u001b[1m0s\u001b[0m 17ms/step - loss: 1.1417 - root_mean_squared_error: 1.0685\n",
      "\u001b[1m12/12\u001b[0m \u001b[32m━━━━━━━━━━━━━━━━━━━━\u001b[0m\u001b[37m\u001b[0m \u001b[1m0s\u001b[0m 2ms/step - loss: 1.2679 - root_mean_squared_error: 1.1256 \n",
      "\n",
      "100%|██████████| 4/4 [00:25<00:00,  6.40s/trial, best loss: 0.7268583178520203]\n",
      "Best parameters: {'lr': np.float64(0.035786073675723284), 'momentum': np.float64(0.6594707040382634)}\n",
      "Best eval rmse: 0.7268583178520203\n"
     ]
    }
   ],
   "source": [
    "mlflow.set_experiment(\"/wine-quality\")\n",
    "with mlflow.start_run():\n",
    "    trials = Trials()\n",
    "    best = fmin(\n",
    "        fn = objective,\n",
    "        space = space,\n",
    "        algo = tpe.suggest,\n",
    "        max_evals=4,\n",
    "        trials = trials\n",
    "    )\n",
    "\n",
    "    best_run = sorted(trials.results,key=lambda x:x[\"loss\"])[0]\n",
    "\n",
    "    mlflow.log_params(best)\n",
    "    mlflow.log_metric(\"eval_rmse\", best_run[\"loss\"])\n",
    "    mlflow.tensorflow.log_model(best_run[\"model\"],\"model\", signature = signature)\n",
    "    print(f\"Best parameters: {best}\")\n",
    "    print(f\"Best eval rmse: {best_run['loss']}\")"
   ]
  },
  {
   "cell_type": "code",
   "execution_count": null,
   "metadata": {},
   "outputs": [],
   "source": []
  },
  {
   "cell_type": "code",
   "execution_count": null,
   "metadata": {},
   "outputs": [],
   "source": []
  },
  {
   "cell_type": "code",
   "execution_count": null,
   "metadata": {},
   "outputs": [],
   "source": []
  },
  {
   "cell_type": "code",
   "execution_count": null,
   "metadata": {},
   "outputs": [],
   "source": []
  },
  {
   "cell_type": "code",
   "execution_count": null,
   "metadata": {},
   "outputs": [],
   "source": [
    "#### ANN cheet sheet\n",
    "\n",
    "##### Data Prep \n",
    "- load\n",
    "- divide into train validation and test sets\n",
    "- signature\n",
    "##### Model Definition\n",
    "- create objective function with parameter- params and returns {\"loss\": eval_rmse, \"status\": STATUS_OK, \"model\": model}\n",
    "- create training function that returns {\"loss\": eval_rmse, \"status\": STATUS_OK, \"model\": model}\n",
    "    - define model with layers like input(size) normalization(mean,var) dense(size,activation) etc\n",
    "    - compile configuration including optimizer(and its lr,momentum), loss, metrics\n",
    "    - start nested mlflow experiment\n",
    "    - model. fit . specify training data nad target, validation_data, epochs , batch size\n",
    "    - get validation results\n",
    "    - log params, metrics, model and return \n",
    "\n",
    "##### Hyperparameter Tuning\n",
    "- specify hyperparameter space\n",
    "- start mlflow experiment\n",
    "- find best values using fmin function  where we need to epecify fn,space,algo,max_evals,trials\n",
    "- log params, metric,model of best trial\n",
    "\n"
   ]
  }
 ],
 "metadata": {
  "kernelspec": {
   "display_name": "Python 3",
   "language": "python",
   "name": "python3"
  },
  "language_info": {
   "codemirror_mode": {
    "name": "ipython",
    "version": 3
   },
   "file_extension": ".py",
   "mimetype": "text/x-python",
   "name": "python",
   "nbconvert_exporter": "python",
   "pygments_lexer": "ipython3",
   "version": "3.10.0"
  }
 },
 "nbformat": 4,
 "nbformat_minor": 2
}
