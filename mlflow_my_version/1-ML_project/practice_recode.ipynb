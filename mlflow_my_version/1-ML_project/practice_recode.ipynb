{
 "cells": [
  {
   "cell_type": "code",
   "execution_count": 1,
   "metadata": {},
   "outputs": [],
   "source": [
    "import sklearn\n",
    "from sklearn import datasets\n",
    "from sklearn.model_selection import train_test_split\n",
    "from sklearn.linear_model import LogisticRegression\n",
    "from sklearn.metrics import accuracy_score"
   ]
  },
  {
   "cell_type": "code",
   "execution_count": 2,
   "metadata": {},
   "outputs": [
    {
     "name": "stderr",
     "output_type": "stream",
     "text": [
      "/Users/baqia/JOB/Preparation/ML/ML Workspace/mlflow_env/lib/python3.10/site-packages/sklearn/linear_model/_logistic.py:1247: FutureWarning: 'multi_class' was deprecated in version 1.5 and will be removed in 1.7. From then on, it will always use 'multinomial'. Leave it to its default value to avoid this warning.\n",
      "  warnings.warn(\n"
     ]
    },
    {
     "data": {
      "text/plain": [
       "1.0"
      ]
     },
     "execution_count": 2,
     "metadata": {},
     "output_type": "execute_result"
    }
   ],
   "source": [
    "X_train,X_test,y_train,y_test = train_test_split(*datasets.load_iris(return_X_y=True),test_size=0.2)\n",
    "params = {\"penalty\":\"l2\",\"solver\":\"lbfgs\",\"max_iter\":1000,\"multi_class\":\"auto\",\"random_state\":8888}\n",
    "lr = LogisticRegression(**params); lr.fit(X_train,y_train)\n",
    "accuracy = accuracy_score(lr.predict(X_test),y_test)\n",
    "accuracy"
   ]
  },
  {
   "cell_type": "code",
   "execution_count": 3,
   "metadata": {},
   "outputs": [
    {
     "name": "stdout",
     "output_type": "stream",
     "text": [
      "🏃 View run worried-cub-633 at: http://127.0.0.01:5000/#/experiments/250880136770658096/runs/31ab98f7e0e04714a55ffeb25da2dfa9\n",
      "🧪 View experiment at: http://127.0.0.01:5000/#/experiments/250880136770658096\n"
     ]
    }
   ],
   "source": [
    "import mlflow as mf\n",
    "from mlflow.models import infer_signature\n",
    "mf.set_tracking_uri(\"http://127.0.0.01:5000\")\n",
    "mf.set_experiment(\"Retry\")\n",
    "with mf.start_run():\n",
    "    mf.log_params(params)\n",
    "    mf.log_metric(\"accuracy\",accuracy)\n",
    "    mf.set_tag(\"Training Info\",\"retry_my_version\")\n",
    "    signature = infer_signature(X_train,lr.predict(X_train))\n",
    "    mf.sklearn.log_model(\n",
    "        sk_model=lr,\n",
    "        artifact_path=\"iris_model_my_version\",\n",
    "        signature = signature,\n",
    "        input_example=X_train\n",
    "    )\n",
    "    "
   ]
  },
  {
   "cell_type": "code",
   "execution_count": 7,
   "metadata": {},
   "outputs": [],
   "source": [
    "model = mf.pyfunc.load_model(model_uri=f\"models:/recoded/1\")"
   ]
  },
  {
   "cell_type": "code",
   "execution_count": 8,
   "metadata": {},
   "outputs": [
    {
     "data": {
      "text/plain": [
       "1.0"
      ]
     },
     "execution_count": 8,
     "metadata": {},
     "output_type": "execute_result"
    }
   ],
   "source": [
    "accuracy_score(model.predict(X_test),y_test)"
   ]
  },
  {
   "cell_type": "code",
   "execution_count": null,
   "metadata": {},
   "outputs": [],
   "source": []
  }
 ],
 "metadata": {
  "kernelspec": {
   "display_name": "Python 3",
   "language": "python",
   "name": "python3"
  },
  "language_info": {
   "codemirror_mode": {
    "name": "ipython",
    "version": 3
   },
   "file_extension": ".py",
   "mimetype": "text/x-python",
   "name": "python",
   "nbconvert_exporter": "python",
   "pygments_lexer": "ipython3",
   "version": "3.10.0"
  }
 },
 "nbformat": 4,
 "nbformat_minor": 2
}
